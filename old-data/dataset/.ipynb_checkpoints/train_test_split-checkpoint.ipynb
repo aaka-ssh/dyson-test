{
 "cells": [
  {
   "cell_type": "code",
   "execution_count": 11,
   "id": "7c5f3c99-9a9b-4572-b9e9-66d1c1d47d92",
   "metadata": {
    "tags": []
   },
   "outputs": [],
   "source": [
    "# to handle datasets\n",
    "import pandas as pd\n",
    "import numpy as np\n",
    "\n",
    "# to divide train and test set\n",
    "from sklearn.model_selection import train_test_split\n",
    "\n",
    "# to visualise al the columns in the dataframe\n",
    "pd.pandas.set_option('display.max_columns', None)"
   ]
  },
  {
   "cell_type": "code",
   "execution_count": 12,
   "id": "f2bca240-1914-45f5-a46c-f8e20d3be64e",
   "metadata": {
    "tags": []
   },
   "outputs": [
    {
     "name": "stdout",
     "output_type": "stream",
     "text": [
      "(20640, 10)\n",
      "Index(['longitude', 'latitude', 'housing_median_age', 'total_rooms',\n",
      "       'total_bedrooms', 'population', 'households', 'median_income',\n",
      "       'median_ces', 'ocean_proximity'],\n",
      "      dtype='object')\n"
     ]
    },
    {
     "data": {
      "text/html": [
       "<div>\n",
       "<style scoped>\n",
       "    .dataframe tbody tr th:only-of-type {\n",
       "        vertical-align: middle;\n",
       "    }\n",
       "\n",
       "    .dataframe tbody tr th {\n",
       "        vertical-align: top;\n",
       "    }\n",
       "\n",
       "    .dataframe thead th {\n",
       "        text-align: right;\n",
       "    }\n",
       "</style>\n",
       "<table border=\"1\" class=\"dataframe\">\n",
       "  <thead>\n",
       "    <tr style=\"text-align: right;\">\n",
       "      <th></th>\n",
       "      <th>longitude</th>\n",
       "      <th>latitude</th>\n",
       "      <th>housing_median_age</th>\n",
       "      <th>total_rooms</th>\n",
       "      <th>total_bedrooms</th>\n",
       "      <th>population</th>\n",
       "      <th>households</th>\n",
       "      <th>median_income</th>\n",
       "      <th>median_ces</th>\n",
       "      <th>ocean_proximity</th>\n",
       "    </tr>\n",
       "  </thead>\n",
       "  <tbody>\n",
       "    <tr>\n",
       "      <th>0</th>\n",
       "      <td>-122.23</td>\n",
       "      <td>37.88</td>\n",
       "      <td>41</td>\n",
       "      <td>880</td>\n",
       "      <td>129.0</td>\n",
       "      <td>322</td>\n",
       "      <td>126</td>\n",
       "      <td>8.3252</td>\n",
       "      <td>452600</td>\n",
       "      <td>NEAR BAY</td>\n",
       "    </tr>\n",
       "    <tr>\n",
       "      <th>1</th>\n",
       "      <td>-122.22</td>\n",
       "      <td>37.86</td>\n",
       "      <td>21</td>\n",
       "      <td>7099</td>\n",
       "      <td>1106.0</td>\n",
       "      <td>2401</td>\n",
       "      <td>1138</td>\n",
       "      <td>8.3014</td>\n",
       "      <td>358500</td>\n",
       "      <td>NEAR BAY</td>\n",
       "    </tr>\n",
       "    <tr>\n",
       "      <th>2</th>\n",
       "      <td>-122.24</td>\n",
       "      <td>37.85</td>\n",
       "      <td>52</td>\n",
       "      <td>1467</td>\n",
       "      <td>190.0</td>\n",
       "      <td>496</td>\n",
       "      <td>177</td>\n",
       "      <td>7.2574</td>\n",
       "      <td>352100</td>\n",
       "      <td>NEAR BAY</td>\n",
       "    </tr>\n",
       "    <tr>\n",
       "      <th>3</th>\n",
       "      <td>-122.25</td>\n",
       "      <td>37.85</td>\n",
       "      <td>52</td>\n",
       "      <td>1274</td>\n",
       "      <td>235.0</td>\n",
       "      <td>558</td>\n",
       "      <td>219</td>\n",
       "      <td>5.6431</td>\n",
       "      <td>341300</td>\n",
       "      <td>NEAR BAY</td>\n",
       "    </tr>\n",
       "    <tr>\n",
       "      <th>4</th>\n",
       "      <td>-122.25</td>\n",
       "      <td>37.85</td>\n",
       "      <td>52</td>\n",
       "      <td>1627</td>\n",
       "      <td>280.0</td>\n",
       "      <td>565</td>\n",
       "      <td>259</td>\n",
       "      <td>3.8462</td>\n",
       "      <td>342200</td>\n",
       "      <td>NEAR BAY</td>\n",
       "    </tr>\n",
       "  </tbody>\n",
       "</table>\n",
       "</div>"
      ],
      "text/plain": [
       "   longitude  latitude  housing_median_age  total_rooms  total_bedrooms  \\\n",
       "0    -122.23     37.88                  41          880           129.0   \n",
       "1    -122.22     37.86                  21         7099          1106.0   \n",
       "2    -122.24     37.85                  52         1467           190.0   \n",
       "3    -122.25     37.85                  52         1274           235.0   \n",
       "4    -122.25     37.85                  52         1627           280.0   \n",
       "\n",
       "   population  households  median_income  median_ces ocean_proximity  \n",
       "0         322         126         8.3252      452600        NEAR BAY  \n",
       "1        2401        1138         8.3014      358500        NEAR BAY  \n",
       "2         496         177         7.2574      352100        NEAR BAY  \n",
       "3         558         219         5.6431      341300        NEAR BAY  \n",
       "4         565         259         3.8462      342200        NEAR BAY  "
      ]
     },
     "execution_count": 12,
     "metadata": {},
     "output_type": "execute_result"
    }
   ],
   "source": [
    "# load dataset\n",
    "data = pd.read_csv('/home/jupyter/dyson-test/old-data/dataset/cali_ces.csv')\n",
    "\n",
    "# rows and columns of the data\n",
    "print(data.shape)\n",
    "\n",
    "print(data.columns)\n",
    "\n",
    "# visualize the dataset\n",
    "data.head()"
   ]
  },
  {
   "cell_type": "code",
   "execution_count": 13,
   "id": "b8a2d48c-b495-4e5f-9cd0-999f80f159a4",
   "metadata": {
    "tags": []
   },
   "outputs": [],
   "source": [
    "# Perform feature engineering\n",
    "# Create a new feature \"total_rooms_per_person\"\n",
    "df = data.copy()\n",
    "df['total_rooms_per_person'] = df['total_rooms']/df['population']\n",
    "# Create a new feature \"bedrooms_per_room\"\n",
    "df['bedrooms_per_room'] = df['total_bedrooms']/df['total_rooms']\n",
    "# Create a new feature \"income_per_person\"\n",
    "df['income_per_person'] = df['median_income']/data['population']\n",
    "# Encode the categorical feature \"ocean_proximity\"\n",
    "one_hot_encoded = pd.get_dummies(df.ocean_proximity,prefix='ocean_proximity')\n",
    "one_hot_encoded = one_hot_encoded.astype(int)\n",
    "df = pd.concat([df, one_hot_encoded], axis=1)\n",
    "df.drop(['ocean_proximity'], axis=1, inplace=True)\n",
    "\n",
    "# Split the DataFrame into features (X) and target variable (y)\n",
    "X = df.drop(columns=['median_ces'])\n",
    "y = df['median_ces']\n",
    "\n",
    "# Split the features and target variable into training and testing sets\n",
    "X_train, X_test, y_train, y_test = train_test_split(X, y, test_size=0.2, random_state=0)\n",
    "\n",
    "# Combine X_train and y_train into a training DataFrame\n",
    "train_df = pd.concat([X_train, y_train], axis=1)\n",
    "\n",
    "# Save the training DataFrame to a CSV file\n",
    "train_df.to_csv('train.csv', index=False)\n",
    "\n",
    "# Save the testing DataFrame to a CSV file\n",
    "X_test.to_csv('test.csv', index=False)\n",
    "\n",
    "\n",
    "\n",
    "\n",
    "# data\n",
    "\n",
    "# # Split the DataFrame into training and testing sets\n",
    "# train_df, test_df = train_test_split(df, test_size=0.2, random_state=0)\n",
    "\n",
    "# # Save the training and testing DataFrames to CSV files\n",
    "# train_df.to_csv('train.csv', index=False)\n",
    "# test_df.to_csv('test.csv', index=False)"
   ]
  },
  {
   "cell_type": "code",
   "execution_count": 14,
   "id": "72988184-c092-48a4-bb5c-6447e3e348ba",
   "metadata": {
    "tags": []
   },
   "outputs": [
    {
     "name": "stdout",
     "output_type": "stream",
     "text": [
      "/home/jupyter/dataset\n"
     ]
    }
   ],
   "source": [
    "!pwd"
   ]
  },
  {
   "cell_type": "code",
   "execution_count": null,
   "id": "5c647019-1526-49da-8a0c-058b8b9659c2",
   "metadata": {},
   "outputs": [],
   "source": []
  }
 ],
 "metadata": {
  "environment": {
   "kernel": "conda-root-py",
   "name": "workbench-notebooks.m118",
   "type": "gcloud",
   "uri": "us-docker.pkg.dev/deeplearning-platform-release/gcr.io/workbench-notebooks:m118"
  },
  "kernelspec": {
   "display_name": "Python 3 (ipykernel) (Local)",
   "language": "python",
   "name": "conda-root-py"
  },
  "language_info": {
   "codemirror_mode": {
    "name": "ipython",
    "version": 3
   },
   "file_extension": ".py",
   "mimetype": "text/x-python",
   "name": "python",
   "nbconvert_exporter": "python",
   "pygments_lexer": "ipython3",
   "version": "3.10.13"
  }
 },
 "nbformat": 4,
 "nbformat_minor": 5
}
